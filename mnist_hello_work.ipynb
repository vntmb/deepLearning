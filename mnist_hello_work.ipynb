{
  "cells": [
    {
      "metadata": {
        "_uuid": "8f2839f25d086af736a60e9eeb907d3b93b6e0e5",
        "_cell_guid": "b1076dfc-b9ad-4769-8c92-a6c4dae69d19",
        "trusted": true
      },
      "cell_type": "code",
      "source": "# This Python 3 environment comes with many helpful analytics libraries installed\n# It is defined by the kaggle/python docker image: https://github.com/kaggle/docker-python\n# For example, here's several helpful packages to load in \n\nimport numpy as np # linear algebra\nimport pandas as pd # data processing, CSV file I/O (e.g. pd.read_csv)\n\n# Deep learning (keras)\nfrom keras.datasets import mnist\nfrom keras.utils import to_categorical\nfrom keras import models\nfrom keras import layers\n\n# Input data files are available in the \"../input/\" directory.\n# For example, running this (by clicking run or pressing Shift+Enter) will list the files in the input directory\n\nimport os\nprint(os.listdir(\"../input\"))\n\n# Any results you write to the current directory are saved as output.",
      "execution_count": null,
      "outputs": []
    },
    {
      "metadata": {
        "_cell_guid": "79c7e3d0-c299-4dcb-8224-4455121ee9b0",
        "_uuid": "d629ff2d2480ee46fbb7e2d37f6b5fab8052498a",
        "trusted": true
      },
      "cell_type": "code",
      "source": "(train_images, train_labels), (test_images, test_labels) = mnist.load_data() # get train and test data",
      "execution_count": 13,
      "outputs": []
    },
    {
      "metadata": {
        "trusted": true,
        "_uuid": "4c48caf624345ba0bcc26244ba601a120190f49a"
      },
      "cell_type": "code",
      "source": "# Creating nn architecture\nnetwork = models.Sequential()\nnetwork.add(layers.Dense(512, activation='relu', input_shape=(28 * 28,)))\nnetwork.add(layers.Dense(10, activation='softmax'))\n\n# Compile step\nnetwork.compile(optimizer='rmsprop',\n               loss='categorical_crossentropy',\n               metrics=['accuracy'])",
      "execution_count": 14,
      "outputs": []
    },
    {
      "metadata": {
        "trusted": true,
        "_uuid": "c92cd228377824dc0b4e0fe7a8ecdcab6f3984c2"
      },
      "cell_type": "code",
      "source": "# Preparing the data\ntrain_images = train_images.reshape((60000, 28 * 28))\ntrain_images = train_images.astype('float32') / 255\n\ntest_images = test_images.reshape((10000, 28 * 28))\ntest_images = test_images.astype('float32') / 255\n\n# Preparing the labels\ntrain_labels = to_categorical(train_labels)\ntest_labels = to_categorical(test_labels)",
      "execution_count": 15,
      "outputs": []
    },
    {
      "metadata": {
        "trusted": true,
        "_uuid": "b804a4686827433055746c3bfdc682dd3353b904"
      },
      "cell_type": "code",
      "source": "# Fit network\nnetwork.fit(train_images, train_labels, epochs=5, batch_size=128)",
      "execution_count": 17,
      "outputs": [
        {
          "output_type": "stream",
          "text": "Epoch 1/5\n60000/60000 [==============================] - 5s 76us/step - loss: 0.2519 - acc: 0.9271\nEpoch 2/5\n60000/60000 [==============================] - 4s 65us/step - loss: 0.1027 - acc: 0.9695\nEpoch 3/5\n60000/60000 [==============================] - 4s 65us/step - loss: 0.0682 - acc: 0.9795\nEpoch 4/5\n60000/60000 [==============================] - 4s 64us/step - loss: 0.0492 - acc: 0.9851\nEpoch 5/5\n60000/60000 [==============================] - 4s 64us/step - loss: 0.0377 - acc: 0.9889\n",
          "name": "stdout"
        },
        {
          "output_type": "execute_result",
          "execution_count": 17,
          "data": {
            "text/plain": "<keras.callbacks.History at 0x7f3884f5e198>"
          },
          "metadata": {}
        }
      ]
    },
    {
      "metadata": {
        "trusted": true,
        "_uuid": "efdf7590966c924d6d14558b7a2999361e51fc0d"
      },
      "cell_type": "code",
      "source": "test_loss, test_acc = network.evaluate(test_images, test_labels)\nprint('test_acc: ', test_acc)\nprint('test_loss: ', test_loss)",
      "execution_count": 18,
      "outputs": [
        {
          "output_type": "stream",
          "text": "10000/10000 [==============================] - 0s 49us/step\ntest_acc:  0.978\ntest_loss:  0.06907137188626221\n",
          "name": "stdout"
        }
      ]
    },
    {
      "metadata": {
        "trusted": true,
        "_uuid": "e03e9b7596af1b8b540092b8f39c7b2173ea757b"
      },
      "cell_type": "code",
      "source": "",
      "execution_count": null,
      "outputs": []
    }
  ],
  "metadata": {
    "kernelspec": {
      "display_name": "Python 3",
      "language": "python",
      "name": "python3"
    },
    "language_info": {
      "name": "python",
      "version": "3.6.6",
      "mimetype": "text/x-python",
      "codemirror_mode": {
        "name": "ipython",
        "version": 3
      },
      "pygments_lexer": "ipython3",
      "nbconvert_exporter": "python",
      "file_extension": ".py"
    }
  },
  "nbformat": 4,
  "nbformat_minor": 1
}